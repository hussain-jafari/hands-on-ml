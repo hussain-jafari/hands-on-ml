{
 "cells": [
  {
   "cell_type": "markdown",
   "metadata": {},
   "source": [
    "# Chapter 10 Introduction to Artificial Neural Network"
   ]
  },
  {
   "cell_type": "code",
   "execution_count": 1,
   "metadata": {},
   "outputs": [],
   "source": [
    "import numpy as np\n",
    "import tensorflow as tf\n",
    "import os\n",
    "from tensorflow import logging\n",
    "\n",
    "# Suppress verbose output\n",
    "logging.set_verbosity(logging.ERROR)\n",
    "os.environ['TF_CPP_MIN_LOG_LEVEL'] = '3'"
   ]
  },
  {
   "cell_type": "markdown",
   "metadata": {},
   "source": [
    "## TensorFlow's Estimator API\n",
    "\n",
    "Tf.estimator provides a quick and simple way to make an out of the box multi-layer perceptron. Let's train a model on the handwritten digits dataset."
   ]
  },
  {
   "cell_type": "code",
   "execution_count": 2,
   "metadata": {},
   "outputs": [],
   "source": [
    "# Create training, validation, and testing data\n",
    "(X_train, y_train), (X_test, y_test) = tf.keras.datasets.mnist.load_data()\n",
    "X_train = X_train.astype(np.float32).reshape(-1, 28*28) / 255.0\n",
    "X_test = X_test.astype(np.float32).reshape(-1, 28*28) / 255.0\n",
    "y_train = y_train.astype(np.int32)\n",
    "y_test = y_test.astype(np.int32)\n",
    "X_valid, X_train = X_train[:5000], X_train[5000:]\n",
    "y_valid, y_train = y_train[:5000], y_train[5000:]"
   ]
  },
  {
   "cell_type": "code",
   "execution_count": 3,
   "metadata": {},
   "outputs": [
    {
     "data": {
      "text/plain": [
       "<tensorflow.python.estimator.canned.dnn.DNNClassifier at 0x7f57d4177208>"
      ]
     },
     "execution_count": 3,
     "metadata": {},
     "output_type": "execute_result"
    }
   ],
   "source": [
    "feature_cols = [tf.feature_column.numeric_column(\"X\", shape=[28 * 28])]\n",
    "# One 300-neuron and one 100-neuron layer with 10 outputs\n",
    "dnn_clf = tf.estimator.DNNClassifier(hidden_units=[300,100], n_classes=10,\n",
    "                                     feature_columns=feature_cols)\n",
    "input_fn = tf.estimator.inputs.numpy_input_fn(\n",
    "            x={'X': X_train}, y=y_train, num_epochs=40, batch_size=50, shuffle=True)\n",
    "dnn_clf.train(input_fn)"
   ]
  },
  {
   "cell_type": "code",
   "execution_count": 4,
   "metadata": {},
   "outputs": [
    {
     "data": {
      "text/plain": [
       "{'accuracy': 0.9799,\n",
       " 'average_loss': 0.11174656,\n",
       " 'loss': 14.145134,\n",
       " 'global_step': 44000}"
      ]
     },
     "execution_count": 4,
     "metadata": {},
     "output_type": "execute_result"
    }
   ],
   "source": [
    "test_input_fn = tf.estimator.inputs.numpy_input_fn(\n",
    "                x={'X': X_test}, y=y_test, shuffle=False)\n",
    "eval_results = dnn_clf.evaluate(input_fn=test_input_fn)\n",
    "eval_results"
   ]
  },
  {
   "cell_type": "code",
   "execution_count": 5,
   "metadata": {},
   "outputs": [
    {
     "data": {
      "text/plain": [
       "{'logits': array([ -2.3311846,  -4.0713058,   3.514548 ,   4.738897 ,  -6.9394183,\n",
       "         -2.3357232, -10.762614 ,  24.034058 ,  -4.6445155,   5.932176 ],\n",
       "       dtype=float32),\n",
       " 'probabilities': array([3.5458544e-12, 6.2229394e-13, 1.2259984e-09, 4.1707904e-09,\n",
       "        3.5350056e-14, 3.5297943e-12, 7.7267526e-16, 1.0000000e+00,\n",
       "        3.5079527e-13, 1.3754758e-08], dtype=float32),\n",
       " 'class_ids': array([7]),\n",
       " 'classes': array([b'7'], dtype=object)}"
      ]
     },
     "execution_count": 5,
     "metadata": {},
     "output_type": "execute_result"
    }
   ],
   "source": [
    "y_pred_generator = dnn_clf.predict(input_fn = test_input_fn)\n",
    "y_pred = list(y_pred_generator)\n",
    "y_pred[0]"
   ]
  },
  {
   "cell_type": "markdown",
   "metadata": {},
   "source": [
    "## Plain TensorFlow"
   ]
  },
  {
   "cell_type": "code",
   "execution_count": 6,
   "metadata": {},
   "outputs": [],
   "source": [
    "n_inputs = 28 * 28\n",
    "n_hidden1 = 300\n",
    "n_hidden2 = 100\n",
    "n_outputs = 10\n",
    "learning_rate = 0.01"
   ]
  },
  {
   "cell_type": "markdown",
   "metadata": {},
   "source": [
    "### Construction Phase"
   ]
  },
  {
   "cell_type": "code",
   "execution_count": 7,
   "metadata": {},
   "outputs": [],
   "source": [
    "tf.reset_default_graph()\n",
    "\n",
    "X = tf.placeholder(tf.float32, shape=(None, n_inputs), name='X')\n",
    "y = tf.placeholder(tf.int32, shape=(None), name='y')\n",
    "\n",
    "with tf.name_scope('dnn'):\n",
    "    hidden1 = tf.layers.dense(X, n_hidden1, name='hidden1', \n",
    "                              activation=tf.nn.relu)\n",
    "    hidden2 = tf.layers.dense(hidden1, n_hidden2, name='hidden2', \n",
    "                              activation=tf.nn.relu)\n",
    "    logits = tf.layers.dense(hidden2, n_outputs, name='outputs')\n",
    "    y_proba = tf.nn.softmax(logits)\n",
    "    \n",
    "with tf.name_scope('loss'):\n",
    "    cross_entropy = tf.nn.sparse_softmax_cross_entropy_with_logits(labels=y, logits=logits)\n",
    "    loss = tf.reduce_mean(cross_entropy, name='loss')\n",
    "    \n",
    "with tf.name_scope('train'):\n",
    "    optimizer = tf.train.GradientDescentOptimizer(learning_rate)\n",
    "    training_op = optimizer.minimize(loss)\n",
    "    \n",
    "with tf.name_scope('eval'):\n",
    "    # Checks whether highest probability class in logits is correct prediction (top 1)\n",
    "    correct = tf.nn.in_top_k(logits, y, 1)\n",
    "    accuracy = tf.reduce_mean(tf.cast(correct, tf.float32))\n",
    "    \n",
    "init = tf.global_variables_initializer()\n",
    "saver = tf.train.Saver()"
   ]
  },
  {
   "cell_type": "markdown",
   "metadata": {},
   "source": [
    "### Execution Phase"
   ]
  },
  {
   "cell_type": "code",
   "execution_count": 8,
   "metadata": {},
   "outputs": [],
   "source": [
    "n_epochs = 20\n",
    "batch_size = 50"
   ]
  },
  {
   "cell_type": "code",
   "execution_count": 9,
   "metadata": {},
   "outputs": [],
   "source": [
    "def shuffle_batch(X, y, batch_size):\n",
    "    rnd_idx = np.random.permutation(len(X))\n",
    "    n_batches = len(X) // batch_size\n",
    "    for batch_idx in np.array_split(rnd_idx, n_batches):\n",
    "        X_batch, y_batch = X[batch_idx], y[batch_idx]\n",
    "        yield X_batch, y_batch"
   ]
  },
  {
   "cell_type": "code",
   "execution_count": 10,
   "metadata": {},
   "outputs": [
    {
     "name": "stdout",
     "output_type": "stream",
     "text": [
      "0 Batch accuracy: 0.8799999952316284 Validation accuracy: 0.9002000093460083\n",
      "1 Batch accuracy: 0.8199999928474426 Validation accuracy: 0.9175999760627747\n",
      "2 Batch accuracy: 0.9800000190734863 Validation accuracy: 0.9336000084877014\n",
      "3 Batch accuracy: 0.9599999785423279 Validation accuracy: 0.9413999915122986\n",
      "4 Batch accuracy: 0.9800000190734863 Validation accuracy: 0.9459999799728394\n",
      "5 Batch accuracy: 0.9200000166893005 Validation accuracy: 0.9502000212669373\n",
      "6 Batch accuracy: 0.9200000166893005 Validation accuracy: 0.9538000226020813\n",
      "7 Batch accuracy: 0.9599999785423279 Validation accuracy: 0.9571999907493591\n",
      "8 Batch accuracy: 0.9800000190734863 Validation accuracy: 0.9593999981880188\n",
      "9 Batch accuracy: 0.9800000190734863 Validation accuracy: 0.9628000259399414\n",
      "10 Batch accuracy: 1.0 Validation accuracy: 0.9639999866485596\n",
      "11 Batch accuracy: 1.0 Validation accuracy: 0.9652000069618225\n",
      "12 Batch accuracy: 0.9599999785423279 Validation accuracy: 0.9664000272750854\n",
      "13 Batch accuracy: 1.0 Validation accuracy: 0.9688000082969666\n",
      "14 Batch accuracy: 0.9800000190734863 Validation accuracy: 0.9710000157356262\n",
      "15 Batch accuracy: 0.9800000190734863 Validation accuracy: 0.9711999893188477\n",
      "16 Batch accuracy: 1.0 Validation accuracy: 0.9732000231742859\n",
      "17 Batch accuracy: 0.9599999785423279 Validation accuracy: 0.9728000164031982\n",
      "18 Batch accuracy: 0.9800000190734863 Validation accuracy: 0.9739999771118164\n",
      "19 Batch accuracy: 0.9800000190734863 Validation accuracy: 0.9747999906539917\n"
     ]
    }
   ],
   "source": [
    "with tf.Session() as sess:\n",
    "    init.run()\n",
    "    for epoch in np.arange(n_epochs):\n",
    "        for X_batch, y_batch in shuffle_batch(X_train, y_train, batch_size):\n",
    "            sess.run(training_op, feed_dict={X: X_batch, y: y_batch})\n",
    "        batch_accuracy = accuracy.eval(feed_dict={X: X_batch, y: y_batch})\n",
    "        validation_accuracy = accuracy.eval(feed_dict={X: X_valid, y: y_valid})\n",
    "        print(f'{epoch} Batch accuracy: {batch_accuracy} Validation accuracy: {validation_accuracy}')\n",
    "        \n",
    "    saver.save(sess, 'models/final_mnist_model.ckpt')"
   ]
  },
  {
   "cell_type": "code",
   "execution_count": 11,
   "metadata": {},
   "outputs": [
    {
     "name": "stdout",
     "output_type": "stream",
     "text": [
      "Predicted classes: [7 2 1 0 4 1 4 9 6 9 0 6 9 0 1 5 9 7 3 4]\n",
      "Actual classes:    [7 2 1 0 4 1 4 9 5 9 0 6 9 0 1 5 9 7 3 4]\n"
     ]
    }
   ],
   "source": [
    "# Restore model and use to make predictions\n",
    "with tf.Session() as sess:\n",
    "    saver.restore(sess, 'models/final_mnist_model.ckpt')\n",
    "    X_new = X_test[:20]\n",
    "    Z = logits.eval(feed_dict={X: X_new})\n",
    "    y_pred = np.argmax(Z, axis=1)\n",
    "    \n",
    "print(\"Predicted classes:\", y_pred)\n",
    "print(\"Actual classes:   \", y_test[:20])"
   ]
  },
  {
   "cell_type": "code",
   "execution_count": null,
   "metadata": {},
   "outputs": [],
   "source": []
  }
 ],
 "metadata": {
  "kernelspec": {
   "display_name": "Python 3",
   "language": "python",
   "name": "python3"
  },
  "language_info": {
   "codemirror_mode": {
    "name": "ipython",
    "version": 3
   },
   "file_extension": ".py",
   "mimetype": "text/x-python",
   "name": "python",
   "nbconvert_exporter": "python",
   "pygments_lexer": "ipython3",
   "version": "3.6.7"
  }
 },
 "nbformat": 4,
 "nbformat_minor": 2
}
